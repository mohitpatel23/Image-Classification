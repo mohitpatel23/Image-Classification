{
 "cells": [
  {
   "cell_type": "code",
   "execution_count": 36,
   "metadata": {},
   "outputs": [],
   "source": [
    "import pandas as pd\n",
    "import numpy as np\n",
    "from sklearn.metrics import classification_report\n",
    "from sklearn.model_selection import train_test_split\n",
    "from sklearn.pipeline import Pipeline\n",
    "from sklearn.feature_selection import SelectKBest, chi2\n",
    "from sklearn.ensemble import ExtraTreesClassifier\n",
    "from imblearn.over_sampling import SMOTE"
   ]
  },
  {
   "cell_type": "code",
   "execution_count": 37,
   "metadata": {},
   "outputs": [],
   "source": [
    "training_data = pd.read_csv('data/train.dat', header=None,sep=' ',float_precision='high')\n",
    "    \n",
    "\n",
    "test_data = pd.read_csv('data/test.dat', header=None,sep=' ',float_precision='high')\n",
    "\n",
    "training_labels = pd.read_csv('data/train.labels', header=None)"
   ]
  },
  {
   "cell_type": "code",
   "execution_count": 38,
   "metadata": {},
   "outputs": [],
   "source": [
    "training_data = training_data[training_data.columns[832:880]]\n",
    "test_data = test_data[test_data.columns[832:880]]"
   ]
  },
  {
   "cell_type": "code",
   "execution_count": 39,
   "metadata": {},
   "outputs": [
    {
     "data": {
      "text/html": [
       "<div>\n",
       "<style scoped>\n",
       "    .dataframe tbody tr th:only-of-type {\n",
       "        vertical-align: middle;\n",
       "    }\n",
       "\n",
       "    .dataframe tbody tr th {\n",
       "        vertical-align: top;\n",
       "    }\n",
       "\n",
       "    .dataframe thead th {\n",
       "        text-align: right;\n",
       "    }\n",
       "</style>\n",
       "<table border=\"1\" class=\"dataframe\">\n",
       "  <thead>\n",
       "    <tr style=\"text-align: right;\">\n",
       "      <th></th>\n",
       "      <th>832</th>\n",
       "      <th>833</th>\n",
       "      <th>834</th>\n",
       "      <th>835</th>\n",
       "      <th>836</th>\n",
       "      <th>837</th>\n",
       "      <th>838</th>\n",
       "      <th>839</th>\n",
       "      <th>840</th>\n",
       "      <th>841</th>\n",
       "      <th>...</th>\n",
       "      <th>870</th>\n",
       "      <th>871</th>\n",
       "      <th>872</th>\n",
       "      <th>873</th>\n",
       "      <th>874</th>\n",
       "      <th>875</th>\n",
       "      <th>876</th>\n",
       "      <th>877</th>\n",
       "      <th>878</th>\n",
       "      <th>879</th>\n",
       "    </tr>\n",
       "  </thead>\n",
       "  <tbody>\n",
       "    <tr>\n",
       "      <th>0</th>\n",
       "      <td>0.090830</td>\n",
       "      <td>0.112610</td>\n",
       "      <td>0.143387</td>\n",
       "      <td>0.184580</td>\n",
       "      <td>0.144097</td>\n",
       "      <td>0.096907</td>\n",
       "      <td>0.054609</td>\n",
       "      <td>0.172980</td>\n",
       "      <td>0.098722</td>\n",
       "      <td>0.108665</td>\n",
       "      <td>...</td>\n",
       "      <td>0.005524</td>\n",
       "      <td>0.004577</td>\n",
       "      <td>0.840041</td>\n",
       "      <td>0.087358</td>\n",
       "      <td>0.033696</td>\n",
       "      <td>0.011916</td>\n",
       "      <td>0.005287</td>\n",
       "      <td>0.002525</td>\n",
       "      <td>0.001105</td>\n",
       "      <td>0.018071</td>\n",
       "    </tr>\n",
       "    <tr>\n",
       "      <th>1</th>\n",
       "      <td>0.080000</td>\n",
       "      <td>0.066667</td>\n",
       "      <td>0.084103</td>\n",
       "      <td>0.262564</td>\n",
       "      <td>0.227692</td>\n",
       "      <td>0.166154</td>\n",
       "      <td>0.068718</td>\n",
       "      <td>0.044103</td>\n",
       "      <td>0.086154</td>\n",
       "      <td>0.068718</td>\n",
       "      <td>...</td>\n",
       "      <td>0.013333</td>\n",
       "      <td>0.008205</td>\n",
       "      <td>0.933333</td>\n",
       "      <td>0.025641</td>\n",
       "      <td>0.011282</td>\n",
       "      <td>0.005128</td>\n",
       "      <td>0.005128</td>\n",
       "      <td>0.001026</td>\n",
       "      <td>0.000000</td>\n",
       "      <td>0.018462</td>\n",
       "    </tr>\n",
       "    <tr>\n",
       "      <th>2</th>\n",
       "      <td>0.259933</td>\n",
       "      <td>0.374263</td>\n",
       "      <td>0.170725</td>\n",
       "      <td>0.085619</td>\n",
       "      <td>0.058190</td>\n",
       "      <td>0.028711</td>\n",
       "      <td>0.013330</td>\n",
       "      <td>0.009228</td>\n",
       "      <td>0.245578</td>\n",
       "      <td>0.301205</td>\n",
       "      <td>...</td>\n",
       "      <td>0.003589</td>\n",
       "      <td>0.004358</td>\n",
       "      <td>0.458600</td>\n",
       "      <td>0.200461</td>\n",
       "      <td>0.153550</td>\n",
       "      <td>0.097667</td>\n",
       "      <td>0.018457</td>\n",
       "      <td>0.011023</td>\n",
       "      <td>0.006921</td>\n",
       "      <td>0.053320</td>\n",
       "    </tr>\n",
       "    <tr>\n",
       "      <th>3</th>\n",
       "      <td>0.217831</td>\n",
       "      <td>0.074449</td>\n",
       "      <td>0.094669</td>\n",
       "      <td>0.112132</td>\n",
       "      <td>0.153493</td>\n",
       "      <td>0.058824</td>\n",
       "      <td>0.062500</td>\n",
       "      <td>0.226103</td>\n",
       "      <td>0.218750</td>\n",
       "      <td>0.072610</td>\n",
       "      <td>...</td>\n",
       "      <td>0.006434</td>\n",
       "      <td>0.007353</td>\n",
       "      <td>0.855699</td>\n",
       "      <td>0.073529</td>\n",
       "      <td>0.014706</td>\n",
       "      <td>0.017463</td>\n",
       "      <td>0.007353</td>\n",
       "      <td>0.000000</td>\n",
       "      <td>0.000919</td>\n",
       "      <td>0.030331</td>\n",
       "    </tr>\n",
       "    <tr>\n",
       "      <th>4</th>\n",
       "      <td>0.130441</td>\n",
       "      <td>0.138817</td>\n",
       "      <td>0.121564</td>\n",
       "      <td>0.112543</td>\n",
       "      <td>0.092712</td>\n",
       "      <td>0.061211</td>\n",
       "      <td>0.072666</td>\n",
       "      <td>0.270046</td>\n",
       "      <td>0.128794</td>\n",
       "      <td>0.090922</td>\n",
       "      <td>...</td>\n",
       "      <td>0.002005</td>\n",
       "      <td>0.002219</td>\n",
       "      <td>0.788159</td>\n",
       "      <td>0.078179</td>\n",
       "      <td>0.045676</td>\n",
       "      <td>0.045604</td>\n",
       "      <td>0.011884</td>\n",
       "      <td>0.003866</td>\n",
       "      <td>0.001074</td>\n",
       "      <td>0.025558</td>\n",
       "    </tr>\n",
       "  </tbody>\n",
       "</table>\n",
       "<p>5 rows × 48 columns</p>\n",
       "</div>"
      ],
      "text/plain": [
       "        832       833       834       835       836       837       838  \\\n",
       "0  0.090830  0.112610  0.143387  0.184580  0.144097  0.096907  0.054609   \n",
       "1  0.080000  0.066667  0.084103  0.262564  0.227692  0.166154  0.068718   \n",
       "2  0.259933  0.374263  0.170725  0.085619  0.058190  0.028711  0.013330   \n",
       "3  0.217831  0.074449  0.094669  0.112132  0.153493  0.058824  0.062500   \n",
       "4  0.130441  0.138817  0.121564  0.112543  0.092712  0.061211  0.072666   \n",
       "\n",
       "        839       840       841  ...       870       871       872       873  \\\n",
       "0  0.172980  0.098722  0.108665  ...  0.005524  0.004577  0.840041  0.087358   \n",
       "1  0.044103  0.086154  0.068718  ...  0.013333  0.008205  0.933333  0.025641   \n",
       "2  0.009228  0.245578  0.301205  ...  0.003589  0.004358  0.458600  0.200461   \n",
       "3  0.226103  0.218750  0.072610  ...  0.006434  0.007353  0.855699  0.073529   \n",
       "4  0.270046  0.128794  0.090922  ...  0.002005  0.002219  0.788159  0.078179   \n",
       "\n",
       "        874       875       876       877       878       879  \n",
       "0  0.033696  0.011916  0.005287  0.002525  0.001105  0.018071  \n",
       "1  0.011282  0.005128  0.005128  0.001026  0.000000  0.018462  \n",
       "2  0.153550  0.097667  0.018457  0.011023  0.006921  0.053320  \n",
       "3  0.014706  0.017463  0.007353  0.000000  0.000919  0.030331  \n",
       "4  0.045676  0.045604  0.011884  0.003866  0.001074  0.025558  \n",
       "\n",
       "[5 rows x 48 columns]"
      ]
     },
     "execution_count": 39,
     "metadata": {},
     "output_type": "execute_result"
    }
   ],
   "source": [
    "training_data.head()"
   ]
  },
  {
   "cell_type": "code",
   "execution_count": 40,
   "metadata": {},
   "outputs": [],
   "source": [
    "def removing_imbalance(training_data, training_classes):\n",
    "    nm = SMOTE(random_state=21,k_neighbors=1)\n",
    "    training_data = np.array(training_data)\n",
    "    training_classes = np.array(training_classes)\n",
    "    \n",
    "    X_res, y_res = nm.fit_sample(training_data, training_classes)\n",
    "    \n",
    "    return X_res, y_res"
   ]
  },
  {
   "cell_type": "code",
   "execution_count": 41,
   "metadata": {},
   "outputs": [],
   "source": [
    "training_data,training_labels = removing_imbalance(training_data=training_data,\n",
    "                                                          training_classes=training_labels)"
   ]
  },
  {
   "cell_type": "code",
   "execution_count": 42,
   "metadata": {},
   "outputs": [],
   "source": [
    "X_train, X_test, y_train, y_test = train_test_split(\n",
    "    training_data,\n",
    "    training_labels,\n",
    "    test_size=0.2,\n",
    "    shuffle=True,\n",
    "    random_state=21,\n",
    ")"
   ]
  },
  {
   "cell_type": "code",
   "execution_count": 43,
   "metadata": {},
   "outputs": [],
   "source": [
    "pipeline=Pipeline(steps=[(\"DR\", SelectKBest(chi2, k=46)), ('classify', ExtraTreesClassifier(n_estimators=500,min_samples_split=4,random_state=21,class_weight=\"balanced\"))])"
   ]
  },
  {
   "cell_type": "code",
   "execution_count": 44,
   "metadata": {},
   "outputs": [
    {
     "data": {
      "text/plain": [
       "Pipeline(memory=None,\n",
       "         steps=[('DR',\n",
       "                 SelectKBest(k=46,\n",
       "                             score_func=<function chi2 at 0x0000023629127168>)),\n",
       "                ('classify',\n",
       "                 ExtraTreesClassifier(bootstrap=False, ccp_alpha=0.0,\n",
       "                                      class_weight='balanced', criterion='gini',\n",
       "                                      max_depth=None, max_features='auto',\n",
       "                                      max_leaf_nodes=None, max_samples=None,\n",
       "                                      min_impurity_decrease=0.0,\n",
       "                                      min_impurity_split=None,\n",
       "                                      min_samples_leaf=1, min_samples_split=4,\n",
       "                                      min_weight_fraction_leaf=0.0,\n",
       "                                      n_estimators=500, n_jobs=None,\n",
       "                                      oob_score=False, random_state=21,\n",
       "                                      verbose=0, warm_start=False))],\n",
       "         verbose=False)"
      ]
     },
     "execution_count": 44,
     "metadata": {},
     "output_type": "execute_result"
    }
   ],
   "source": [
    "pipeline.fit(X_train, y_train)"
   ]
  },
  {
   "cell_type": "code",
   "execution_count": 45,
   "metadata": {},
   "outputs": [
    {
     "name": "stdout",
     "output_type": "stream",
     "text": [
      "              precision    recall  f1-score   support\n",
      "\n",
      "           1       0.82      0.84      0.83      1767\n",
      "           2       0.83      0.81      0.82      1784\n",
      "           3       0.98      0.98      0.98      1753\n",
      "           4       1.00      1.00      1.00      1808\n",
      "           5       1.00      1.00      1.00      1760\n",
      "           6       1.00      1.00      1.00      1760\n",
      "           7       1.00      1.00      1.00      1772\n",
      "           8       0.99      0.99      0.99      1733\n",
      "          10       1.00      1.00      1.00      1795\n",
      "          11       1.00      1.00      1.00      1750\n",
      "\n",
      "    accuracy                           0.96     17682\n",
      "   macro avg       0.96      0.96      0.96     17682\n",
      "weighted avg       0.96      0.96      0.96     17682\n",
      "\n"
     ]
    }
   ],
   "source": [
    "y_pred = pipeline.predict(X_test)\n",
    "print(classification_report(y_test, y_pred))"
   ]
  },
  {
   "cell_type": "code",
   "execution_count": 46,
   "metadata": {},
   "outputs": [],
   "source": [
    "X_train = np.vstack((X_train,X_test))\n",
    "y_train = np.append(y_train,y_test)\n",
    "\n",
    "pipeline=Pipeline(steps=[(\"DR\", SelectKBest(chi2, k=46)), ('classify', ExtraTreesClassifier(n_estimators=500,min_samples_split=4,random_state=21,class_weight=\"balanced\"))])\n",
    "\n",
    "pipeline.fit(X_train, y_train)\n",
    "y_pred = pipeline.predict(test_data)"
   ]
  },
  {
   "cell_type": "code",
   "execution_count": 47,
   "metadata": {},
   "outputs": [],
   "source": [
    "prediction_df = pd.DataFrame(y_pred)\n",
    "prediction_df.index += 1 \n",
    "prediction_df.index.names = ['ImageID']\n",
    "prediction_df.columns = ['Class']"
   ]
  },
  {
   "cell_type": "code",
   "execution_count": 48,
   "metadata": {},
   "outputs": [],
   "source": [
    "prediction_df.to_csv('prediction.dat', index=True)"
   ]
  },
  {
   "cell_type": "code",
   "execution_count": null,
   "metadata": {},
   "outputs": [],
   "source": []
  }
 ],
 "metadata": {
  "kernelspec": {
   "display_name": "Python 3",
   "language": "python",
   "name": "python3"
  },
  "language_info": {
   "codemirror_mode": {
    "name": "ipython",
    "version": 3
   },
   "file_extension": ".py",
   "mimetype": "text/x-python",
   "name": "python",
   "nbconvert_exporter": "python",
   "pygments_lexer": "ipython3",
   "version": "3.7.6"
  }
 },
 "nbformat": 4,
 "nbformat_minor": 4
}
